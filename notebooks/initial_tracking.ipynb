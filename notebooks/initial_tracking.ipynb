{
 "cells": [
  {
   "cell_type": "code",
   "execution_count": 3,
   "id": "2d8dd0e2",
   "metadata": {},
   "outputs": [
    {
     "name": "stdout",
     "output_type": "stream",
     "text": [
      "3.4.0\n"
     ]
    }
   ],
   "source": [
    "import mlflow\n",
    "print(mlflow.__version__)"
   ]
  },
  {
   "cell_type": "code",
   "execution_count": 4,
   "id": "93c345d5",
   "metadata": {},
   "outputs": [],
   "source": [
    "import pandas as pd\n",
    "from sklearn.feature_extraction import DictVectorizer\n",
    "from sklearn.linear_model import Lasso\n",
    "from sklearn.metrics import root_mean_squared_error\n",
    "\n",
    "def read_dataframe(path):\n",
    "    df = pd.read_parquet(path)\n",
    "    df[\"duration\"] = (df.lpep_dropoff_datetime - df.lpep_pickup_datetime).dt.total_seconds() / 60\n",
    "    df = df[(df.duration >= 1) & (df.duration <= 60)]\n",
    "    df[[\"PULocationID\", \"DOLocationID\"]] = df[[\"PULocationID\", \"DOLocationID\"]].astype(str)\n",
    "    return df\n",
    "\n",
    "df_train = read_dataframe(\"../data/green_tripdata_2025-01.parquet\")\n",
    "df_val = read_dataframe(\"../data/green_tripdata_2025-02.parquet\")\n",
    "\n",
    "df_train[\"PU_DO\"] = df_train[\"PULocationID\"] + \"_\" + df_train[\"DOLocationID\"]\n",
    "df_val[\"PU_DO\"] = df_val[\"PULocationID\"] + \"_\" + df_val[\"DOLocationID\"]\n",
    "\n",
    "categorical = [\"PU_DO\"]\n",
    "numerical = [\"trip_distance\"]\n",
    "\n",
    "dv = DictVectorizer()\n",
    "X_train = dv.fit_transform(df_train[categorical + numerical].to_dict(orient=\"records\"))\n",
    "X_val = dv.transform(df_val[categorical + numerical].to_dict(orient=\"records\"))\n",
    "\n",
    "y_train = df_train[\"duration\"].values\n",
    "y_val = df_val[\"duration\"].values"
   ]
  },
  {
   "cell_type": "code",
   "execution_count": 5,
   "id": "ba5bad59",
   "metadata": {},
   "outputs": [
    {
     "name": "stderr",
     "output_type": "stream",
     "text": [
      "2025/10/16 20:11:56 INFO mlflow.store.db.utils: Creating initial MLflow database tables...\n",
      "2025/10/16 20:11:56 INFO mlflow.store.db.utils: Updating database tables\n",
      "INFO  [alembic.runtime.migration] Context impl SQLiteImpl.\n",
      "INFO  [alembic.runtime.migration] Will assume non-transactional DDL.\n",
      "INFO  [alembic.runtime.migration] Context impl SQLiteImpl.\n",
      "INFO  [alembic.runtime.migration] Will assume non-transactional DDL.\n",
      "2025/10/16 20:11:56 WARNING mlflow.models.model: `artifact_path` is deprecated. Please use `name` instead.\n",
      "2025/10/16 20:11:58 WARNING mlflow.utils.environment: Failed to resolve installed pip version. ``pip`` will be added to conda.yaml environment spec without a version specifier.\n",
      "\u001b[31m2025/10/16 20:11:58 WARNING mlflow.models.model: Model logged without a signature and input example. Please set `input_example` parameter when logging the model to auto infer the model signature.\u001b[0m\n"
     ]
    },
    {
     "name": "stdout",
     "output_type": "stream",
     "text": [
      "✅ Run finalizado. RMSE = 8.9926\n"
     ]
    }
   ],
   "source": [
    "import mlflow\n",
    "\n",
    "mlflow.set_tracking_uri(\"sqlite:///mlflow.db\")\n",
    "mlflow.set_experiment(\"class-nyc-taxi-experiment\")\n",
    "\n",
    "with mlflow.start_run(run_name=\"lasso_alpha_0.1\"):\n",
    "    alpha = 0.1\n",
    "    mlflow.log_param(\"alpha\", alpha)\n",
    "\n",
    "    model = Lasso(alpha=alpha)\n",
    "    model.fit(X_train, y_train)\n",
    "\n",
    "    y_pred = model.predict(X_val)\n",
    "    rmse = root_mean_squared_error(y_val, y_pred)\n",
    "\n",
    "    mlflow.log_metric(\"rmse\", rmse)\n",
    "    mlflow.sklearn.log_model(model, \"model\")\n",
    "\n",
    "    print(f\"✅ Run finalizado. RMSE = {rmse:.4f}\")"
   ]
  },
  {
   "cell_type": "markdown",
   "id": "b3963ac2",
   "metadata": {},
   "source": [
    "Model Registry"
   ]
  },
  {
   "cell_type": "code",
   "execution_count": 6,
   "id": "5dac1727",
   "metadata": {},
   "outputs": [],
   "source": [
    "from sklearn.ensemble import GradientBoostingRegressor, ExtraTreesRegressor\n",
    "from sklearn.svm import LinearSVR\n",
    "import pickle"
   ]
  },
  {
   "cell_type": "code",
   "execution_count": 7,
   "id": "309fe6e1",
   "metadata": {},
   "outputs": [
    {
     "data": {
      "text/plain": [
       "<Experiment: artifact_location='/Users/octavioperezurbina/Documents/iteso/proyecto_cd/nyc-taxi-predictions/notebooks/mlruns/2', creation_time=1760500004708, experiment_id='2', last_update_time=1760500004708, lifecycle_stage='active', name='nyc-taxi-model-registry-example', tags={}>"
      ]
     },
     "execution_count": 7,
     "metadata": {},
     "output_type": "execute_result"
    }
   ],
   "source": [
    "import mlflow\n",
    "\n",
    "mlflow.set_tracking_uri(\"sqlite:///mlflow.db\")\n",
    "mlflow.set_experiment(experiment_name=\"nyc-taxi-model-registry-example\")"
   ]
  },
  {
   "cell_type": "code",
   "execution_count": 8,
   "id": "3060faeb",
   "metadata": {},
   "outputs": [],
   "source": [
    "mlflow.sklearn.autolog()"
   ]
  },
  {
   "cell_type": "code",
   "execution_count": 9,
   "id": "ffd52f26",
   "metadata": {},
   "outputs": [],
   "source": [
    "training_dataset = mlflow.data.from_numpy(X_train.data, targets=y_train, name=\"green_tripdata_2025-01\")\n",
    "validation_dataset = mlflow.data.from_numpy(X_val.data, targets=y_val, name=\"green_tripdata_2025-02\")"
   ]
  },
  {
   "cell_type": "code",
   "execution_count": 10,
   "id": "a3c66eb2",
   "metadata": {},
   "outputs": [],
   "source": [
    "models = [\n",
    "    \n",
    "    {\"model\": GradientBoostingRegressor,\n",
    "     \"params\": {\"n_estimators\": 100, \"learning_rate\": 0.3, \"max_depth\": 25, \"random_state\": 42},\n",
    "     },\n",
    "    \n",
    "    {\"model\": ExtraTreesRegressor,\n",
    "     \"params\": {\"n_estimators\": 100, \"max_depth\": 15, \"random_state\": 42},\n",
    "     },\n",
    "    \n",
    "    {\"model\": LinearSVR,\n",
    "     \"params\": {\"C\": 1.0, \"epsilon\": 0}, \n",
    "     },\n",
    "\n",
    "]"
   ]
  },
  {
   "cell_type": "code",
   "execution_count": 11,
   "id": "c8ed573c",
   "metadata": {},
   "outputs": [
    {
     "name": "stderr",
     "output_type": "stream",
     "text": [
      "2025/10/16 20:12:15 WARNING mlflow.utils.environment: Failed to resolve installed pip version. ``pip`` will be added to conda.yaml environment spec without a version specifier.\n",
      "2025/10/16 20:12:23 WARNING mlflow.utils.environment: Failed to resolve installed pip version. ``pip`` will be added to conda.yaml environment spec without a version specifier.\n",
      "/Users/octavioperezurbina/Documents/iteso/proyecto_cd/nyc-taxi-predictions/.venv/lib/python3.11/site-packages/sklearn/svm/_base.py:1250: ConvergenceWarning: Liblinear failed to converge, increase the number of iterations.\n",
      "  warnings.warn(\n",
      "2025/10/16 20:12:26 WARNING mlflow.utils.environment: Failed to resolve installed pip version. ``pip`` will be added to conda.yaml environment spec without a version specifier.\n"
     ]
    }
   ],
   "source": [
    "with mlflow.start_run(run_name=\"Nested Runs\"):\n",
    "    for model in models:\n",
    "        \n",
    "        model_class = model[\"model\"]\n",
    "        model_name = model_class.__name__\n",
    "        params = model[\"params\"]\n",
    "        \n",
    "        with mlflow.start_run(run_name=model_name,nested=True):\n",
    "            \n",
    "            ml_model = model_class(**params)\n",
    "           \n",
    "            ml_model.fit(X_train, y_train)\n",
    "    \n",
    "            y_pred = ml_model.predict(X_val)\n",
    "            \n",
    "            rmse = root_mean_squared_error(y_val, y_pred)\n",
    "            mlflow.log_metric(\"rmse\", rmse)\n",
    "            \n",
    "            # !mkdir models\n",
    "            with open(\"models/preprocessor.b\", \"wb\") as f_out:\n",
    "                pickle.dump(dv, f_out)\n",
    "                \n",
    "            mlflow.log_artifact(\"models/preprocessor.b\", artifact_path=\"preprocessor\")"
   ]
  },
  {
   "cell_type": "code",
   "execution_count": 13,
   "id": "f56f2542",
   "metadata": {},
   "outputs": [
    {
     "name": "stderr",
     "output_type": "stream",
     "text": [
      "2025/10/16 20:22:03 WARNING mlflow.utils.environment: Failed to resolve installed pip version. ``pip`` will be added to conda.yaml environment spec without a version specifier.\n",
      "2025/10/16 20:22:11 WARNING mlflow.utils.environment: Failed to resolve installed pip version. ``pip`` will be added to conda.yaml environment spec without a version specifier.\n",
      "/Users/octavioperezurbina/Documents/iteso/proyecto_cd/nyc-taxi-predictions/.venv/lib/python3.11/site-packages/sklearn/svm/_base.py:1250: ConvergenceWarning: Liblinear failed to converge, increase the number of iterations.\n",
      "  warnings.warn(\n",
      "2025/10/16 20:22:14 WARNING mlflow.utils.environment: Failed to resolve installed pip version. ``pip`` will be added to conda.yaml environment spec without a version specifier.\n"
     ]
    }
   ],
   "source": [
    "with mlflow.start_run(run_name=\"Nested Runs\"):\n",
    "    for model in models:\n",
    "        \n",
    "        model_class = model[\"model\"]\n",
    "        model_name = model_class.__name__\n",
    "        params = model[\"params\"]\n",
    "        \n",
    "        with mlflow.start_run(run_name=model_name,nested=True):\n",
    "            \n",
    "            ml_model = model_class(**params)\n",
    "           \n",
    "            ml_model.fit(X_train, y_train)\n",
    "    \n",
    "            y_pred = ml_model.predict(X_val)\n",
    "            \n",
    "            rmse = root_mean_squared_error(y_val, y_pred)\n",
    "            mlflow.log_metric(\"rmse\", rmse)\n",
    "            \n",
    "            # !mkdir models\n",
    "            with open(\"models/preprocessor.b\", \"wb\") as f_out:\n",
    "                pickle.dump(dv, f_out)\n",
    "                \n",
    "            mlflow.log_artifact(\"models/preprocessor.b\", artifact_path=\"preprocessor\")"
   ]
  },
  {
   "cell_type": "code",
   "execution_count": null,
   "id": "af8ec2f8",
   "metadata": {},
   "outputs": [
    {
     "name": "stderr",
     "output_type": "stream",
     "text": [
      "2025/10/16 21:15:55 WARNING mlflow.utils.environment: Failed to resolve installed pip version. ``pip`` will be added to conda.yaml environment spec without a version specifier.\n",
      "2025/10/16 21:15:58 WARNING mlflow.utils.environment: Failed to resolve installed pip version. ``pip`` will be added to conda.yaml environment spec without a version specifier.\n",
      "\u001b[31m2025/10/16 21:15:58 WARNING mlflow.models.model: Model logged without a signature and input example. Please set `input_example` parameter when logging the model to auto infer the model signature.\u001b[0m\n",
      "Registered model 'nyc-taxi-model' already exists. Creating a new version of this model...\n",
      "Created version '8' of model 'nyc-taxi-model'.\n"
     ]
    }
   ],
   "source": [
    "from sklearn.ensemble import RandomForestRegressor\n",
    "\n",
    "\n",
    "with mlflow.start_run(run_name=\"RandomForestRegressor\"):\n",
    "    ml_model = RandomForestRegressor(\n",
    "        n_estimators=100,\n",
    "        max_depth=15,\n",
    "        random_state=42\n",
    "    )\n",
    "    \n",
    "    ml_model.fit(X_train, y_train)\n",
    "    \n",
    "    mlflow.sklearn.log_model(\n",
    "        sk_model=ml_model,  # Fixed: was 'model', now 'ml_model'\n",
    "        name=\"model\",       # Fixed: was 'artifact_path=\"model\"', now 'name=\"model\"'\n",
    "        registered_model_name=\"nyc-taxi-model\",\n",
    "    )\n",
    "    \n",
    "    y_pred = ml_model.predict(X_val)\n",
    "    \n",
    "    rmse = root_mean_squared_error(y_val, y_pred)\n",
    "    mlflow.log_metric(\"rmse\", rmse)\n",
    "    \n",
    "    # !mkdir models\n",
    "    with open(\"models/preprocessor.b\", \"wb\") as f_out:\n",
    "        pickle.dump(dv, f_out)\n",
    "        \n",
    "    mlflow.log_artifact(\"models/preprocessor.b\", artifact_path=\"preprocessor\")"
   ]
  },
  {
   "cell_type": "code",
   "execution_count": 16,
   "id": "c16e710d",
   "metadata": {},
   "outputs": [
    {
     "name": "stderr",
     "output_type": "stream",
     "text": [
      "Registered model 'nyc-taxi-model' already exists. Creating a new version of this model...\n",
      "2025/10/16 20:27:39 WARNING mlflow.tracking._model_registry.fluent: Run with id 1ceb85b5c7244ffaa051a60479e52e03 has no artifacts at artifact path 'model', registering model based on models:/m-a1da3755b2ea49d98267b2f948ba07ba instead\n",
      "Created version '5' of model 'nyc-taxi-model'.\n"
     ]
    }
   ],
   "source": [
    "run_id = input(\"Ingrese el run_id\")\n",
    "run_uri = f\"runs:/{run_id}/model\"\n",
    "\n",
    "result = mlflow.register_model(\n",
    "    model_uri=run_uri,\n",
    "    name=\"nyc-taxi-model\"\n",
    ")"
   ]
  },
  {
   "cell_type": "code",
   "execution_count": 17,
   "id": "043bbb51",
   "metadata": {},
   "outputs": [],
   "source": [
    "from mlflow import MlflowClient\n",
    "\n",
    "client = MlflowClient(tracking_uri=\"sqlite:///mlflow.db\")"
   ]
  },
  {
   "cell_type": "code",
   "execution_count": null,
   "id": "1614cfa1",
   "metadata": {},
   "outputs": [],
   "source": [
    "#client.create_model(name=\"nyc-taxi-model\") #ths breas"
   ]
  },
  {
   "cell_type": "code",
   "execution_count": 19,
   "id": "2efaca2d",
   "metadata": {},
   "outputs": [],
   "source": [
    "run_id = input(\"Ingrese el run_id\")\n",
    "run_uri = f\"runs:/{run_id}/model\"\n",
    "\n",
    "result = client.create_model_version(\n",
    "    name=\"nyc-taxi-model\",\n",
    "    source=run_uri,\n",
    "    run_id=run_id\n",
    ")"
   ]
  },
  {
   "cell_type": "code",
   "execution_count": 24,
   "id": "4b47d0c7",
   "metadata": {},
   "outputs": [],
   "source": [
    "from mlflow import MlflowClient\n",
    "\n",
    "client = MlflowClient(tracking_uri=\"sqlite:///mlflow.db\")\n",
    "\n",
    "# create \"champion\" alias for version 1 of model \"example-model\"\n",
    "client.set_registered_model_alias(\n",
    "    name=\"nyc-taxi-model\", \n",
    "    alias=\"champion\",\n",
    "    version=6\n",
    ")\n",
    "\n",
    "# set the \"challenger\" alias to version 2\n",
    "client.set_registered_model_alias(\n",
    "    name=\"nyc-taxi-model\", \n",
    "    alias=\"challenger\",\n",
    "    version=5\n",
    ")"
   ]
  },
  {
   "cell_type": "code",
   "execution_count": 25,
   "id": "19511045",
   "metadata": {},
   "outputs": [
    {
     "data": {
      "text/plain": [
       "<ModelVersion: aliases=['champion'], creation_timestamp=1760668272712, current_stage='None', deployment_job_state=None, description=None, last_updated_timestamp=1760668272712, metrics=None, model_id=None, name='nyc-taxi-model', params=None, run_id='62c7941ad70b4caebc7776c5bd9f6783', run_link=None, source='runs:/62c7941ad70b4caebc7776c5bd9f6783/model', status='READY', status_message=None, tags={}, user_id=None, version=6>"
      ]
     },
     "execution_count": 25,
     "metadata": {},
     "output_type": "execute_result"
    }
   ],
   "source": [
    "# get a model version by alias\n",
    "client.get_model_version_by_alias(\n",
    "    name=\"nyc-taxi-model\",\n",
    "    alias=\"champion\"\n",
    ")"
   ]
  },
  {
   "cell_type": "code",
   "execution_count": 26,
   "id": "761234c7",
   "metadata": {},
   "outputs": [],
   "source": [
    "# delete the alias\n",
    "client.delete_registered_model_alias(\n",
    "    name=\"nyc-taxi-model\", \n",
    "    alias=\"challenger\"\n",
    ")"
   ]
  },
  {
   "cell_type": "code",
   "execution_count": 27,
   "id": "998dd6d0",
   "metadata": {},
   "outputs": [
    {
     "data": {
      "text/plain": [
       "<ModelVersion: aliases=[], creation_timestamp=1760500020653, current_stage='None', deployment_job_state=None, description=('This model version is a scikit-learn random forest containing 100 decision '\n",
       " 'trees'), last_updated_timestamp=1760669140713, metrics=None, model_id=None, name='nyc-taxi-model', params=None, run_id='60095a2341cd45b38a7eac4f17bbbca7', run_link=None, source='models:/m-de33138d3b38427ba79fc98ea5ff2cec', status='READY', status_message=None, tags={}, user_id=None, version=1>"
      ]
     },
     "execution_count": 27,
     "metadata": {},
     "output_type": "execute_result"
    }
   ],
   "source": [
    "client.update_model_version(\n",
    "    name=\"nyc-taxi-model\",\n",
    "    version=1,\n",
    "    description=\"This model version is a scikit-learn random forest containing 100 decision trees\",\n",
    ")"
   ]
  },
  {
   "cell_type": "code",
   "execution_count": 38,
   "id": "96e661af",
   "metadata": {},
   "outputs": [
    {
     "data": {
      "text/plain": [
       "array([13.73673267, 13.73713099, 13.73725143, ..., 13.73696413,\n",
       "       13.73684032, 13.73706034], shape=(44218,))"
      ]
     },
     "execution_count": 38,
     "metadata": {},
     "output_type": "execute_result"
    }
   ],
   "source": [
    "import mlflow.pyfunc\n",
    "\n",
    "model_name = \"nyc-taxi-model\"\n",
    "model_version = 1\n",
    "\n",
    "model_uri = f\"models:/{model_name}/{model_version}\"\n",
    "\n",
    "model = mlflow.sklearn.load_model(\n",
    "    model_uri=model_uri,\n",
    ")\n",
    "\n",
    "model.predict(X_val)"
   ]
  },
  {
   "cell_type": "code",
   "execution_count": 41,
   "id": "6d8dd49a",
   "metadata": {},
   "outputs": [
    {
     "ename": "MlflowException",
     "evalue": "Model does not have the \"python_function\" flavor",
     "output_type": "error",
     "traceback": [
      "\u001b[31m---------------------------------------------------------------------------\u001b[39m",
      "\u001b[31mMlflowException\u001b[39m                           Traceback (most recent call last)",
      "\u001b[36mCell\u001b[39m\u001b[36m \u001b[39m\u001b[32mIn[41]\u001b[39m\u001b[32m, line 8\u001b[39m\n\u001b[32m      4\u001b[39m alias = \u001b[33m\"\u001b[39m\u001b[33mchampion\u001b[39m\u001b[33m\"\u001b[39m\n\u001b[32m      6\u001b[39m model_uri = \u001b[33mf\u001b[39m\u001b[33m\"\u001b[39m\u001b[33mmodels:/\u001b[39m\u001b[38;5;132;01m{\u001b[39;00mmodel_name\u001b[38;5;132;01m}\u001b[39;00m\u001b[33m@\u001b[39m\u001b[38;5;132;01m{\u001b[39;00malias\u001b[38;5;132;01m}\u001b[39;00m\u001b[33m\"\u001b[39m\n\u001b[32m----> \u001b[39m\u001b[32m8\u001b[39m champion_version = \u001b[43mmlflow\u001b[49m\u001b[43m.\u001b[49m\u001b[43mpyfunc\u001b[49m\u001b[43m.\u001b[49m\u001b[43mload_model\u001b[49m\u001b[43m(\u001b[49m\n\u001b[32m      9\u001b[39m \u001b[43m    \u001b[49m\u001b[43mmodel_uri\u001b[49m\u001b[43m=\u001b[49m\u001b[43mmodel_uri\u001b[49m\n\u001b[32m     10\u001b[39m \u001b[43m)\u001b[49m\n\u001b[32m     12\u001b[39m champion_version.predict(X_val)\n",
      "\u001b[36mFile \u001b[39m\u001b[32m~/Documents/iteso/proyecto_cd/nyc-taxi-predictions/.venv/lib/python3.11/site-packages/mlflow/tracing/provider.py:508\u001b[39m, in \u001b[36mtrace_disabled.<locals>.wrapper\u001b[39m\u001b[34m(*args, **kwargs)\u001b[39m\n\u001b[32m    506\u001b[39m \u001b[38;5;28;01mtry\u001b[39;00m:\n\u001b[32m    507\u001b[39m     is_func_called = \u001b[38;5;28;01mTrue\u001b[39;00m\n\u001b[32m--> \u001b[39m\u001b[32m508\u001b[39m     result = \u001b[43mf\u001b[49m\u001b[43m(\u001b[49m\u001b[43m*\u001b[49m\u001b[43margs\u001b[49m\u001b[43m,\u001b[49m\u001b[43m \u001b[49m\u001b[43m*\u001b[49m\u001b[43m*\u001b[49m\u001b[43mkwargs\u001b[49m\u001b[43m)\u001b[49m\n\u001b[32m    509\u001b[39m \u001b[38;5;28;01mfinally\u001b[39;00m:\n\u001b[32m    510\u001b[39m     enable()\n",
      "\u001b[36mFile \u001b[39m\u001b[32m~/Documents/iteso/proyecto_cd/nyc-taxi-predictions/.venv/lib/python3.11/site-packages/mlflow/pyfunc/__init__.py:1151\u001b[39m, in \u001b[36mload_model\u001b[39m\u001b[34m(model_uri, suppress_warnings, dst_path, model_config)\u001b[39m\n\u001b[32m   1149\u001b[39m conf = model_meta.flavors.get(FLAVOR_NAME)\n\u001b[32m   1150\u001b[39m \u001b[38;5;28;01mif\u001b[39;00m conf \u001b[38;5;129;01mis\u001b[39;00m \u001b[38;5;28;01mNone\u001b[39;00m:\n\u001b[32m-> \u001b[39m\u001b[32m1151\u001b[39m     \u001b[38;5;28;01mraise\u001b[39;00m MlflowException(\n\u001b[32m   1152\u001b[39m         \u001b[33mf\u001b[39m\u001b[33m'\u001b[39m\u001b[33mModel does not have the \u001b[39m\u001b[33m\"\u001b[39m\u001b[38;5;132;01m{\u001b[39;00mFLAVOR_NAME\u001b[38;5;132;01m}\u001b[39;00m\u001b[33m\"\u001b[39m\u001b[33m flavor\u001b[39m\u001b[33m'\u001b[39m,\n\u001b[32m   1153\u001b[39m         RESOURCE_DOES_NOT_EXIST,\n\u001b[32m   1154\u001b[39m     )\n\u001b[32m   1155\u001b[39m model_py_version = conf.get(PY_VERSION)\n\u001b[32m   1156\u001b[39m \u001b[38;5;28;01mif\u001b[39;00m \u001b[38;5;129;01mnot\u001b[39;00m suppress_warnings:\n",
      "\u001b[31mMlflowException\u001b[39m: Model does not have the \"python_function\" flavor"
     ]
    }
   ],
   "source": [
    "import mlflow.pyfunc\n",
    "\n",
    "model_name = \"nyc-taxi-model\"\n",
    "alias = \"champion\"\n",
    "\n",
    "model_uri = f\"models:/{model_name}@{alias}\"\n",
    "\n",
    "champion_version = mlflow.pyfunc.load_model(\n",
    "    model_uri=model_uri\n",
    ")\n",
    "\n",
    "champion_version.predict(X_val)\n"
   ]
  },
  {
   "cell_type": "code",
   "execution_count": 42,
   "id": "6edd04bd",
   "metadata": {},
   "outputs": [
    {
     "name": "stdout",
     "output_type": "stream",
     "text": [
      "  % Total    % Received % Xferd  Average Speed   Time    Time     Time  Current\n",
      "                                 Dload  Upload   Total   Spent    Left  Speed\n",
      "100 1224k  100 1224k    0     0   828k      0  0:00:01  0:00:01 --:--:--  829k\n"
     ]
    }
   ],
   "source": [
    "# Create the directory if it doesn't exist\n",
    "!mkdir -p ./data\n",
    "\n",
    "# Download files using curl\n",
    "!curl -o ./data/green_tripdata_2025-03.parquet https://d37ci6vzurychx.cloudfront.net/trip-data/green_tripdata_2025-03.parquet"
   ]
  },
  {
   "cell_type": "code",
   "execution_count": 56,
   "id": "1e4550c9",
   "metadata": {},
   "outputs": [],
   "source": [
    "def read_dataframe(filename):\n",
    "    df = pd.read_parquet(filename)\n",
    "\n",
    "    df.lpep_dropoff_datetime = pd.to_datetime(df.lpep_dropoff_datetime)\n",
    "    df.lpep_pickup_datetime = pd.to_datetime(df.lpep_pickup_datetime)\n",
    "\n",
    "    df['duration'] = df.lpep_dropoff_datetime - df.lpep_pickup_datetime\n",
    "    df.duration = df.duration.apply(lambda td: td.total_seconds() / 60)\n",
    "\n",
    "    df = df[(df.duration >= 1) & (df.duration <= 60)]\n",
    "\n",
    "    categorical = ['PULocationID', 'DOLocationID']\n",
    "    df[categorical] = df[categorical].astype(str)\n",
    "    \n",
    "    return df\n",
    "\n",
    "\n",
    "def preprocess(df, dv):\n",
    "    df['PU_DO'] = df['PULocationID'] + '_' + df['DOLocationID']\n",
    "    categorical = ['PU_DO']\n",
    "    numerical = ['trip_distance']\n",
    "    train_dicts = df[categorical + numerical].to_dict(orient='records')\n",
    "    return dv.transform(train_dicts)\n",
    "\n",
    "\n",
    "def test_model(name, alias, X_test, y_test):\n",
    "    model = mlflow.sklearn.load_model(f\"models:/{name}@{alias}\")\n",
    "    y_pred = model.predict(X_test)\n",
    "    return {\"rmse\": root_mean_squared_error(y_test, y_pred)}"
   ]
  },
  {
   "cell_type": "code",
   "execution_count": 45,
   "id": "5d419ef4",
   "metadata": {},
   "outputs": [],
   "source": [
    "df = read_dataframe(\"../data/green_tripdata_2025-03.parquet\")"
   ]
  },
  {
   "cell_type": "code",
   "execution_count": 46,
   "id": "d3999d60",
   "metadata": {},
   "outputs": [
    {
     "data": {
      "text/plain": [
       "'/Users/octavioperezurbina/Documents/iteso/proyecto_cd/nyc-taxi-predictions/notebooks/preprocessor'"
      ]
     },
     "execution_count": 46,
     "metadata": {},
     "output_type": "execute_result"
    }
   ],
   "source": [
    "run_id = input(\"Ingrese el run_id\")\n",
    "\n",
    "client.download_artifacts(\n",
    "    run_id=run_id, \n",
    "    path='preprocessor', \n",
    "    dst_path='.'\n",
    ")"
   ]
  },
  {
   "cell_type": "code",
   "execution_count": 47,
   "id": "e5036cae",
   "metadata": {},
   "outputs": [],
   "source": [
    "import pickle\n",
    "\n",
    "with open(\"preprocessor/preprocessor.b\", \"rb\") as f_in:\n",
    "    dv = pickle.load(f_in)"
   ]
  },
  {
   "cell_type": "code",
   "execution_count": 48,
   "id": "f70fc1cf",
   "metadata": {},
   "outputs": [],
   "source": [
    "X_test = preprocess(df, dv)"
   ]
  },
  {
   "cell_type": "code",
   "execution_count": 49,
   "id": "f49abf62",
   "metadata": {},
   "outputs": [],
   "source": [
    "target = \"duration\"\n",
    "y_test = df[target].values"
   ]
  },
  {
   "cell_type": "code",
   "execution_count": 57,
   "id": "ef40e513",
   "metadata": {},
   "outputs": [
    {
     "name": "stdout",
     "output_type": "stream",
     "text": [
      "CPU times: user 27.2 ms, sys: 7.28 ms, total: 34.5 ms\n",
      "Wall time: 33.1 ms\n"
     ]
    },
    {
     "ename": "AttributeError",
     "evalue": "'dict' object has no attribute 'predict'",
     "output_type": "error",
     "traceback": [
      "\u001b[31m---------------------------------------------------------------------------\u001b[39m",
      "\u001b[31mAttributeError\u001b[39m                            Traceback (most recent call last)",
      "\u001b[36mCell\u001b[39m\u001b[36m \u001b[39m\u001b[32mIn[57]\u001b[39m\u001b[32m, line 1\u001b[39m\n\u001b[32m----> \u001b[39m\u001b[32m1\u001b[39m \u001b[43mget_ipython\u001b[49m\u001b[43m(\u001b[49m\u001b[43m)\u001b[49m\u001b[43m.\u001b[49m\u001b[43mrun_line_magic\u001b[49m\u001b[43m(\u001b[49m\u001b[33;43m'\u001b[39;49m\u001b[33;43mtime\u001b[39;49m\u001b[33;43m'\u001b[39;49m\u001b[43m,\u001b[49m\u001b[43m \u001b[49m\u001b[33;43m'\u001b[39;49m\u001b[33;43mtest_model(name=\u001b[39;49m\u001b[33;43m\"\u001b[39;49m\u001b[33;43mnyc-taxi-model\u001b[39;49m\u001b[33;43m\"\u001b[39;49m\u001b[33;43m, alias=\u001b[39;49m\u001b[33;43m\"\u001b[39;49m\u001b[33;43mchampion\u001b[39;49m\u001b[33;43m\"\u001b[39;49m\u001b[33;43m, X_test=X_test, y_test=y_test)\u001b[39;49m\u001b[33;43m'\u001b[39;49m\u001b[43m)\u001b[49m\n",
      "\u001b[36mFile \u001b[39m\u001b[32m~/Documents/iteso/proyecto_cd/nyc-taxi-predictions/.venv/lib/python3.11/site-packages/IPython/core/interactiveshell.py:2504\u001b[39m, in \u001b[36mInteractiveShell.run_line_magic\u001b[39m\u001b[34m(self, magic_name, line, _stack_depth)\u001b[39m\n\u001b[32m   2502\u001b[39m     kwargs[\u001b[33m'\u001b[39m\u001b[33mlocal_ns\u001b[39m\u001b[33m'\u001b[39m] = \u001b[38;5;28mself\u001b[39m.get_local_scope(stack_depth)\n\u001b[32m   2503\u001b[39m \u001b[38;5;28;01mwith\u001b[39;00m \u001b[38;5;28mself\u001b[39m.builtin_trap:\n\u001b[32m-> \u001b[39m\u001b[32m2504\u001b[39m     result = \u001b[43mfn\u001b[49m\u001b[43m(\u001b[49m\u001b[43m*\u001b[49m\u001b[43margs\u001b[49m\u001b[43m,\u001b[49m\u001b[43m \u001b[49m\u001b[43m*\u001b[49m\u001b[43m*\u001b[49m\u001b[43mkwargs\u001b[49m\u001b[43m)\u001b[49m\n\u001b[32m   2506\u001b[39m \u001b[38;5;66;03m# The code below prevents the output from being displayed\u001b[39;00m\n\u001b[32m   2507\u001b[39m \u001b[38;5;66;03m# when using magics with decorator @output_can_be_silenced\u001b[39;00m\n\u001b[32m   2508\u001b[39m \u001b[38;5;66;03m# when the last Python token in the expression is a ';'.\u001b[39;00m\n\u001b[32m   2509\u001b[39m \u001b[38;5;28;01mif\u001b[39;00m \u001b[38;5;28mgetattr\u001b[39m(fn, magic.MAGIC_OUTPUT_CAN_BE_SILENCED, \u001b[38;5;28;01mFalse\u001b[39;00m):\n",
      "\u001b[36mFile \u001b[39m\u001b[32m~/Documents/iteso/proyecto_cd/nyc-taxi-predictions/.venv/lib/python3.11/site-packages/IPython/core/magics/execution.py:1452\u001b[39m, in \u001b[36mExecutionMagics.time\u001b[39m\u001b[34m(self, line, cell, local_ns)\u001b[39m\n\u001b[32m   1450\u001b[39m \u001b[38;5;28;01mif\u001b[39;00m interrupt_occured:\n\u001b[32m   1451\u001b[39m     \u001b[38;5;28;01mif\u001b[39;00m exit_on_interrupt \u001b[38;5;129;01mand\u001b[39;00m captured_exception:\n\u001b[32m-> \u001b[39m\u001b[32m1452\u001b[39m         \u001b[38;5;28;01mraise\u001b[39;00m captured_exception\n\u001b[32m   1453\u001b[39m     \u001b[38;5;28;01mreturn\u001b[39;00m\n\u001b[32m   1454\u001b[39m \u001b[38;5;28;01mreturn\u001b[39;00m out\n",
      "\u001b[36mFile \u001b[39m\u001b[32m~/Documents/iteso/proyecto_cd/nyc-taxi-predictions/.venv/lib/python3.11/site-packages/IPython/core/magics/execution.py:1402\u001b[39m, in \u001b[36mExecutionMagics.time\u001b[39m\u001b[34m(self, line, cell, local_ns)\u001b[39m\n\u001b[32m   1400\u001b[39m st = clock2()\n\u001b[32m   1401\u001b[39m \u001b[38;5;28;01mtry\u001b[39;00m:\n\u001b[32m-> \u001b[39m\u001b[32m1402\u001b[39m     out = \u001b[38;5;28;43meval\u001b[39;49m\u001b[43m(\u001b[49m\u001b[43mcode\u001b[49m\u001b[43m,\u001b[49m\u001b[43m \u001b[49m\u001b[43mglob\u001b[49m\u001b[43m,\u001b[49m\u001b[43m \u001b[49m\u001b[43mlocal_ns\u001b[49m\u001b[43m)\u001b[49m\n\u001b[32m   1403\u001b[39m \u001b[38;5;28;01mexcept\u001b[39;00m \u001b[38;5;167;01mKeyboardInterrupt\u001b[39;00m \u001b[38;5;28;01mas\u001b[39;00m e:\n\u001b[32m   1404\u001b[39m     captured_exception = e\n",
      "\u001b[36mFile \u001b[39m\u001b[32m<timed eval>:1\u001b[39m\n",
      "\u001b[36mCell\u001b[39m\u001b[36m \u001b[39m\u001b[32mIn[56]\u001b[39m\u001b[32m, line 28\u001b[39m, in \u001b[36mtest_model\u001b[39m\u001b[34m(name, alias, X_test, y_test)\u001b[39m\n\u001b[32m     26\u001b[39m \u001b[38;5;28;01mdef\u001b[39;00m\u001b[38;5;250m \u001b[39m\u001b[34mtest_model\u001b[39m(name, alias, X_test, y_test):\n\u001b[32m     27\u001b[39m     model = mlflow.sklearn.load_model(\u001b[33mf\u001b[39m\u001b[33m\"\u001b[39m\u001b[33mmodels:/\u001b[39m\u001b[38;5;132;01m{\u001b[39;00mname\u001b[38;5;132;01m}\u001b[39;00m\u001b[33m@\u001b[39m\u001b[38;5;132;01m{\u001b[39;00malias\u001b[38;5;132;01m}\u001b[39;00m\u001b[33m\"\u001b[39m)\n\u001b[32m---> \u001b[39m\u001b[32m28\u001b[39m     y_pred = \u001b[43mmodel\u001b[49m\u001b[43m.\u001b[49m\u001b[43mpredict\u001b[49m(X_test)\n\u001b[32m     29\u001b[39m     \u001b[38;5;28;01mreturn\u001b[39;00m {\u001b[33m\"\u001b[39m\u001b[33mrmse\u001b[39m\u001b[33m\"\u001b[39m: root_mean_squared_error(y_test, y_pred)}\n",
      "\u001b[31mAttributeError\u001b[39m: 'dict' object has no attribute 'predict'"
     ]
    }
   ],
   "source": [
    "%time test_model(name=\"nyc-taxi-model\", alias=\"champion\", X_test=X_test, y_test=y_test)"
   ]
  },
  {
   "cell_type": "code",
   "execution_count": null,
   "id": "64149429",
   "metadata": {},
   "outputs": [],
   "source": [
    "%time test_model(name=model_name, alias=\"challenger\", X_test=X_test, y_test=y_test)"
   ]
  },
  {
   "cell_type": "code",
   "execution_count": null,
   "id": "46d4d062",
   "metadata": {},
   "outputs": [],
   "source": [
    "client.set_registered_model_alias(\n",
    "    name=\"nyc-taxi-model\", \n",
    "    alias=\"champion\",\n",
    "    version=100\n",
    ")"
   ]
  }
 ],
 "metadata": {
  "kernelspec": {
   "display_name": ".venv",
   "language": "python",
   "name": "python3"
  },
  "language_info": {
   "codemirror_mode": {
    "name": "ipython",
    "version": 3
   },
   "file_extension": ".py",
   "mimetype": "text/x-python",
   "name": "python",
   "nbconvert_exporter": "python",
   "pygments_lexer": "ipython3",
   "version": "3.11.5"
  }
 },
 "nbformat": 4,
 "nbformat_minor": 5
}
